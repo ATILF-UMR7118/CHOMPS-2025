{
 "cells": [
  {
   "cell_type": "code",
   "execution_count": 1,
   "metadata": {},
   "outputs": [],
   "source": [
    "import pandas as pd \n",
    "import json "
   ]
  },
  {
   "cell_type": "code",
   "execution_count": 3,
   "metadata": {},
   "outputs": [],
   "source": [
    "structured_field_data = [\n",
    "    {\"name\": \"Writing Stage\", \"category\": \"task\"},\n",
    "    {\"name\": \"Writing Context\", \"category\": \"task\"},\n",
    "    {\"name\": \"Purpose\", \"category\": \"task\"},\n",
    "    {\"name\": \"Specificity\", \"category\": \"task\"},\n",
    "    {\"name\": \"Audience\", \"category\": \"task\"},\n",
    "    {\"name\": \"Demographic Profile - Design\", \"category\": \"user\"},\n",
    "    {\"name\": \"Demographic Profile - Evaluation\", \"category\": \"user\"},\n",
    "    {\"name\": \"System Output Preferences - Design\", \"category\": \"user\"},\n",
    "    {\"name\": \"System Output Preferences - Evaluation\", \"category\": \"user\"},\n",
    "    {\"name\": \"Relationship to System - Design\", \"category\": \"user\"},\n",
    "    {\"name\": \"Relationship to System - Evaluation\", \"category\": \"user\"},\n",
    "    {\"name\": \"User Capabilities - Design\", \"category\": \"user\"},\n",
    "    {\"name\": \"User Capabilities - Evaluation\", \"category\": \"user\"},\n",
    "    {\"name\": \"Data - Source\", \"category\": \"technology\"},\n",
    "    {\"name\": \"Data - Size\", \"category\": \"technology\"},\n",
    "    {\"name\": \"Model - Type\", \"category\": \"technology\"},\n",
    "    {\"name\": \"Model - External Resource Access\", \"category\": \"technology\"},\n",
    "    {\"name\": \"Learning - Problem\", \"category\": \"technology\"},\n",
    "    {\"name\": \"Learning - Algorithm\", \"category\": \"technology\"},\n",
    "    {\"name\": \"Learning - Training and Adaptation\", \"category\": \"technology\"},\n",
    "    {\"name\": \"Evaluation - Evaluator\", \"category\": \"technology\"},\n",
    "    {\"name\": \"Evaluation - Focus\", \"category\": \"technology\"},\n",
    "    {\"name\": \"Scalability\", \"category\": \"technology\"},\n",
    "    {\"name\": \"User - Steering the System\", \"category\": \"interaction\"},\n",
    "    {\"name\": \"User - Integrating System Output\", \"category\": \"interaction\"},\n",
    "    {\"name\": \"UI - Interface Paradigm\", \"category\": \"interaction\"},\n",
    "    {\"name\": \"UI - Layout\", \"category\": \"interaction\"},\n",
    "    {\"name\": \"UI - Visual Differentiation\", \"category\": \"interaction\"},\n",
    "    {\"name\": \"UI - Interaction Metaphor\", \"category\": \"interaction\"},\n",
    "    {\"name\": \"UI - Initiation\", \"category\": \"interaction\"},\n",
    "    {\"name\": \"System - Output Type\", \"category\": \"interaction\"},\n",
    "    {\"name\": \"System - Curation Type\", \"category\": \"interaction\"},\n",
    "    {\"name\": \"System - User Data Access\", \"category\": \"interaction\"},\n",
    "    {\"name\": \"Digital Infrastructure\", \"category\": \"ecosystem\"},\n",
    "    {\"name\": \"Social Factors\", \"category\": \"ecosystem\"},\n",
    "    {\"name\": \"Locale\", \"category\": \"ecosystem\"},\n",
    "    {\"name\": \"Access Model\", \"category\": \"ecosystem\"},\n",
    "    {\"name\": \"Norms & Rules\", \"category\": \"ecosystem\"},\n",
    "    {\"name\": \"Change Over Time\", \"category\": \"ecosystem\"},\n",
    "]"
   ]
  },
  {
   "cell_type": "code",
   "execution_count": 2,
   "metadata": {},
   "outputs": [],
   "source": [
    "df = pd.read_csv(\"annotation_combined.csv\")# .head(5).T.sort_index()\n",
    "\n",
    "necessary_fields = ['Paper', 'URL', 'Year']\n",
    "other_fields = [ele for ele in df.columns if ele not in necessary_fields]\n",
    "\n",
    "for field in other_fields:\n",
    "    df[field] = df[field].apply(lambda x: [ele.strip() for ele in x.split(\",\")] if isinstance(x, str) else x)\n",
    "\n",
    "for field in structured_field_data:\n",
    "    all_values = list(set(sum(df[field['name']].dropna().tolist(), [])))\n",
    "    field['values'] = [{\"value\": ele, \"label\": ele} for ele in all_values]\n",
    "\n",
    "df['ID'] = [f\"paper-{i}\" for i in range(len(df))]\n",
    "df.to_json(\"src/app/papers/papers.json\", orient=\"records\")\n",
    "\n",
    "with open(\"src/app/papers/structured_fields.json\", \"w\") as f:\n",
    "    json.dump(structured_field_data, f, indent=2)"
   ]
  }
 ],
 "metadata": {
  "kernelspec": {
   "display_name": "base",
   "language": "python",
   "name": "python3"
  },
  "language_info": {
   "codemirror_mode": {
    "name": "ipython",
    "version": 3
   },
   "file_extension": ".py",
   "mimetype": "text/x-python",
   "name": "python",
   "nbconvert_exporter": "python",
   "pygments_lexer": "ipython3",
   "version": "3.10.8"
  },
  "orig_nbformat": 4,
  "vscode": {
   "interpreter": {
    "hash": "854e041ff0d214ee7900090399c146646907009bd9fe0ba7d075abe166abeeed"
   }
  }
 },
 "nbformat": 4,
 "nbformat_minor": 2
}
